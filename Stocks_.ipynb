{
  "nbformat": 4,
  "nbformat_minor": 0,
  "metadata": {
    "colab": {
      "provenance": [],
      "authorship_tag": "ABX9TyPHtmA8DSueqDgnH6MQqFDS",
      "include_colab_link": true
    },
    "kernelspec": {
      "name": "python3",
      "display_name": "Python 3"
    },
    "language_info": {
      "name": "python"
    }
  },
  "cells": [
    {
      "cell_type": "markdown",
      "metadata": {
        "id": "view-in-github",
        "colab_type": "text"
      },
      "source": [
        "<a href=\"https://colab.research.google.com/github/anonymousgeek17/TSF/blob/main/Stocks_.ipynb\" target=\"_parent\"><img src=\"https://colab.research.google.com/assets/colab-badge.svg\" alt=\"Open In Colab\"/></a>"
      ]
    },
    {
      "cell_type": "markdown",
      "source": [
        "# **Stock Market Prediction using Machine Learning**"
      ],
      "metadata": {
        "id": "gNJna43_J_hh"
      }
    },
    {
      "cell_type": "code",
      "execution_count": null,
      "metadata": {
        "colab": {
          "base_uri": "https://localhost:8080/"
        },
        "id": "UevvbXAlCS6U",
        "outputId": "5f2bd7e3-c02b-42e2-ffd3-f8b334b15b2b"
      },
      "outputs": [
        {
          "output_type": "stream",
          "name": "stdout",
          "text": [
            "Looking in indexes: https://pypi.org/simple, https://us-python.pkg.dev/colab-wheels/public/simple/\n",
            "Collecting yfinance\n",
            "  Downloading yfinance-0.1.90-py2.py3-none-any.whl (29 kB)\n",
            "Requirement already satisfied: lxml>=4.9.1 in /usr/local/lib/python3.8/dist-packages (from yfinance) (4.9.1)\n",
            "Requirement already satisfied: appdirs>=1.4.4 in /usr/local/lib/python3.8/dist-packages (from yfinance) (1.4.4)\n",
            "Requirement already satisfied: pandas>=1.3.0 in /usr/local/lib/python3.8/dist-packages (from yfinance) (1.3.5)\n",
            "Collecting requests>=2.26\n",
            "  Downloading requests-2.28.1-py3-none-any.whl (62 kB)\n",
            "\u001b[K     |████████████████████████████████| 62 kB 1.3 MB/s \n",
            "\u001b[?25hRequirement already satisfied: numpy>=1.16.5 in /usr/local/lib/python3.8/dist-packages (from yfinance) (1.21.6)\n",
            "Requirement already satisfied: multitasking>=0.0.7 in /usr/local/lib/python3.8/dist-packages (from yfinance) (0.0.11)\n",
            "Requirement already satisfied: python-dateutil>=2.7.3 in /usr/local/lib/python3.8/dist-packages (from pandas>=1.3.0->yfinance) (2.8.2)\n",
            "Requirement already satisfied: pytz>=2017.3 in /usr/local/lib/python3.8/dist-packages (from pandas>=1.3.0->yfinance) (2022.6)\n",
            "Requirement already satisfied: six>=1.5 in /usr/local/lib/python3.8/dist-packages (from python-dateutil>=2.7.3->pandas>=1.3.0->yfinance) (1.15.0)\n",
            "Requirement already satisfied: charset-normalizer<3,>=2 in /usr/local/lib/python3.8/dist-packages (from requests>=2.26->yfinance) (2.1.1)\n",
            "Requirement already satisfied: certifi>=2017.4.17 in /usr/local/lib/python3.8/dist-packages (from requests>=2.26->yfinance) (2022.9.24)\n",
            "Requirement already satisfied: idna<4,>=2.5 in /usr/local/lib/python3.8/dist-packages (from requests>=2.26->yfinance) (2.10)\n",
            "Requirement already satisfied: urllib3<1.27,>=1.21.1 in /usr/local/lib/python3.8/dist-packages (from requests>=2.26->yfinance) (1.24.3)\n",
            "Installing collected packages: requests, yfinance\n",
            "  Attempting uninstall: requests\n",
            "    Found existing installation: requests 2.23.0\n",
            "    Uninstalling requests-2.23.0:\n",
            "      Successfully uninstalled requests-2.23.0\n",
            "Successfully installed requests-2.28.1 yfinance-0.1.90\n",
            "Looking in indexes: https://pypi.org/simple, https://us-python.pkg.dev/colab-wheels/public/simple/\n",
            "Collecting yahoofinancials\n",
            "  Downloading yahoofinancials-1.6.tar.gz (27 kB)\n",
            "Requirement already satisfied: beautifulsoup4 in /usr/local/lib/python3.8/dist-packages (from yahoofinancials) (4.6.3)\n",
            "Requirement already satisfied: pytz in /usr/local/lib/python3.8/dist-packages (from yahoofinancials) (2022.6)\n",
            "Building wheels for collected packages: yahoofinancials\n",
            "  Building wheel for yahoofinancials (setup.py) ... \u001b[?25l\u001b[?25hdone\n",
            "  Created wheel for yahoofinancials: filename=yahoofinancials-1.6-py3-none-any.whl size=15190 sha256=411280e8e3ae78b30c72e6beca7ec99e8317d7753074e3b08ca3be3f53ea38be\n",
            "  Stored in directory: /root/.cache/pip/wheels/6a/90/0c/08c7ac2ce60b9ac91529417d471e59244f9f96848c86f14809\n",
            "Successfully built yahoofinancials\n",
            "Installing collected packages: yahoofinancials\n",
            "Successfully installed yahoofinancials-1.6\n"
          ]
        }
      ],
      "source": [
        "!pip install yfinance \n",
        "!pip install yahoofinancials"
      ]
    },
    {
      "cell_type": "code",
      "source": [
        "import os\n",
        "import sys\n",
        "import numpy as np\n",
        "import pandas as pd\n",
        "import datetime\n",
        "import yfinance as yf\n",
        "\n",
        "import matplotlib.pyplot as plt\n",
        "%matplotlib inline"
      ],
      "metadata": {
        "id": "XnLyI8b0KPNR"
      },
      "execution_count": null,
      "outputs": []
    },
    {
      "cell_type": "markdown",
      "source": [
        "### **Data Anaysis**"
      ],
      "metadata": {
        "id": "o8vE-O2gKX1X"
      }
    },
    {
      "cell_type": "code",
      "source": [
        "start_date = datetime.datetime(2000, 1, 1).date()\n",
        "end_date = datetime.datetime.now().date()\n",
        "start_date, end_date"
      ],
      "metadata": {
        "colab": {
          "base_uri": "https://localhost:8080/"
        },
        "id": "4Koccl2HKPYn",
        "outputId": "fbeb8628-9c9a-49ed-a9ab-9dd7b23de94a"
      },
      "execution_count": null,
      "outputs": [
        {
          "output_type": "execute_result",
          "data": {
            "text/plain": [
              "(datetime.date(2000, 1, 1), datetime.date(2022, 12, 14))"
            ]
          },
          "metadata": {},
          "execution_count": 4
        }
      ]
    },
    {
      "cell_type": "code",
      "source": [
        "end_date - start_date"
      ],
      "metadata": {
        "colab": {
          "base_uri": "https://localhost:8080/"
        },
        "id": "ljeifRb7KPVv",
        "outputId": "a3b47c72-6a29-477f-f10f-61807f40037e"
      },
      "execution_count": null,
      "outputs": [
        {
          "output_type": "execute_result",
          "data": {
            "text/plain": [
              "datetime.timedelta(days=8383)"
            ]
          },
          "metadata": {},
          "execution_count": 5
        }
      ]
    },
    {
      "cell_type": "code",
      "source": [
        "ticker = \"GOOGL\"\n",
        "#ticker = \"MSFT\"\n",
        "#ticker = \"FB\""
      ],
      "metadata": {
        "id": "CvX9_IgfKPTI"
      },
      "execution_count": null,
      "outputs": []
    },
    {
      "cell_type": "code",
      "source": [
        "googl = yf.Ticker(ticker)\n",
        "googl"
      ],
      "metadata": {
        "colab": {
          "base_uri": "https://localhost:8080/"
        },
        "id": "PTYprHrfKPQC",
        "outputId": "e6e165cf-2295-45c8-f584-312835fdc544"
      },
      "execution_count": null,
      "outputs": [
        {
          "output_type": "execute_result",
          "data": {
            "text/plain": [
              "yfinance.Ticker object <GOOGL>"
            ]
          },
          "metadata": {},
          "execution_count": 7
        }
      ]
    },
    {
      "cell_type": "code",
      "source": [
        "googl.info"
      ],
      "metadata": {
        "colab": {
          "base_uri": "https://localhost:8080/"
        },
        "id": "HPLWTj9WK2Mg",
        "outputId": "a19cbf00-d4ee-4b3d-9e4a-b40fd46abeea"
      },
      "execution_count": null,
      "outputs": [
        {
          "output_type": "execute_result",
          "data": {
            "text/plain": [
              "{'zip': '94043',\n",
              " 'sector': 'Communication Services',\n",
              " 'fullTimeEmployees': 186779,\n",
              " 'longBusinessSummary': 'Alphabet Inc. provides various products and platforms in the United States, Europe, the Middle East, Africa, the Asia-Pacific, Canada, and Latin America. It operates through Google Services, Google Cloud, and Other Bets segments. The Google Services segment offers products and services, including ads, Android, Chrome, hardware, Gmail, Google Drive, Google Maps, Google Photos, Google Play, Search, and YouTube. It is also involved in the sale of apps and in-app purchases and digital content in the Google Play store; and Fitbit wearable devices, Google Nest home products, Pixel phones, and other devices, as well as in the provision of YouTube non-advertising services. The Google Cloud segment offers infrastructure, platform, and other services; Google Workspace that include cloud-based collaboration tools for enterprises, such as Gmail, Docs, Drive, Calendar, and Meet; and other services for enterprise customers. The Other Bets segment sells health technology and internet services. The company was founded in 1998 and is headquartered in Mountain View, California.',\n",
              " 'city': 'Mountain View',\n",
              " 'phone': '650 253 0000',\n",
              " 'state': 'CA',\n",
              " 'country': 'United States',\n",
              " 'companyOfficers': [],\n",
              " 'website': 'https://www.abc.xyz',\n",
              " 'maxAge': 1,\n",
              " 'address1': '1600 Amphitheatre Parkway',\n",
              " 'industry': 'Internet Content & Information',\n",
              " 'ebitdaMargins': 0.33225,\n",
              " 'profitMargins': 0.23746,\n",
              " 'grossMargins': 0.56099,\n",
              " 'operatingCashflow': 92814999552,\n",
              " 'revenueGrowth': 0.061,\n",
              " 'operatingMargins': 0.27849,\n",
              " 'ebitda': 93733003264,\n",
              " 'targetLowPrice': 93,\n",
              " 'recommendationKey': 'buy',\n",
              " 'grossProfits': 146698000000,\n",
              " 'freeCashflow': 48262373376,\n",
              " 'targetMedianPrice': 129,\n",
              " 'currentPrice': 95.63,\n",
              " 'earningsGrowth': -0.241,\n",
              " 'currentRatio': 2.518,\n",
              " 'returnOnAssets': 0.13916999,\n",
              " 'numberOfAnalystOpinions': 44,\n",
              " 'targetMeanPrice': 127.8,\n",
              " 'debtToEquity': 11.567,\n",
              " 'returnOnEquity': 0.26893,\n",
              " 'targetHighPrice': 169.5,\n",
              " 'totalCash': 116258996224,\n",
              " 'totalDebt': 29336000512,\n",
              " 'totalRevenue': 282113015808,\n",
              " 'totalCashPerShare': 8.982,\n",
              " 'financialCurrency': 'USD',\n",
              " 'revenuePerShare': 21.45,\n",
              " 'quickRatio': 2.31,\n",
              " 'recommendationMean': 1.8,\n",
              " 'exchange': 'NMS',\n",
              " 'shortName': 'Alphabet Inc.',\n",
              " 'longName': 'Alphabet Inc.',\n",
              " 'exchangeTimezoneName': 'America/New_York',\n",
              " 'exchangeTimezoneShortName': 'EST',\n",
              " 'isEsgPopulated': False,\n",
              " 'gmtOffSetMilliseconds': '-18000000',\n",
              " 'quoteType': 'EQUITY',\n",
              " 'symbol': 'GOOGL',\n",
              " 'messageBoardId': 'finmb_29096',\n",
              " 'market': 'us_market',\n",
              " 'annualHoldingsTurnover': None,\n",
              " 'enterpriseToRevenue': 3.973,\n",
              " 'beta3Year': None,\n",
              " 'enterpriseToEbitda': 11.957,\n",
              " '52WeekChange': -0.36281508,\n",
              " 'morningStarRiskRating': None,\n",
              " 'forwardEps': 5.24,\n",
              " 'revenueQuarterlyGrowth': None,\n",
              " 'sharesOutstanding': 5973000192,\n",
              " 'fundInceptionDate': None,\n",
              " 'annualReportExpenseRatio': None,\n",
              " 'totalAssets': None,\n",
              " 'bookValue': 19.553,\n",
              " 'sharesShort': 48883523,\n",
              " 'sharesPercentSharesOut': 0.0038,\n",
              " 'fundFamily': None,\n",
              " 'lastFiscalYearEnd': 1640908800,\n",
              " 'heldPercentInstitutions': 0.78529,\n",
              " 'netIncomeToCommon': 66989998080,\n",
              " 'trailingEps': 5.06,\n",
              " 'lastDividendValue': None,\n",
              " 'SandP52WeekChange': -0.15272039,\n",
              " 'priceToBook': 4.8908095,\n",
              " 'heldPercentInsiders': 0.07779,\n",
              " 'nextFiscalYearEnd': 1703980800,\n",
              " 'yield': None,\n",
              " 'mostRecentQuarter': 1664496000,\n",
              " 'shortRatio': 1.44,\n",
              " 'sharesShortPreviousMonthDate': 1667174400,\n",
              " 'floatShares': 11261316010,\n",
              " 'beta': 1.059626,\n",
              " 'enterpriseValue': 1120788283392,\n",
              " 'priceHint': 2,\n",
              " 'threeYearAverageReturn': None,\n",
              " 'lastSplitDate': 1658102400,\n",
              " 'lastSplitFactor': '20:1',\n",
              " 'legalType': None,\n",
              " 'lastDividendDate': None,\n",
              " 'morningStarOverallRating': None,\n",
              " 'earningsQuarterlyGrowth': -0.265,\n",
              " 'priceToSalesTrailing12Months': 4.3929124,\n",
              " 'dateShortInterest': 1669766400,\n",
              " 'pegRatio': 2.21,\n",
              " 'ytdReturn': None,\n",
              " 'forwardPE': 18.25,\n",
              " 'lastCapGain': None,\n",
              " 'shortPercentOfFloat': 0.0082,\n",
              " 'sharesShortPriorMonth': 51989928,\n",
              " 'impliedSharesOutstanding': 0,\n",
              " 'category': None,\n",
              " 'fiveYearAverageReturn': None,\n",
              " 'previousClose': 93.31,\n",
              " 'regularMarketOpen': 97.76,\n",
              " 'twoHundredDayAverage': 112.28593,\n",
              " 'trailingAnnualDividendYield': 0,\n",
              " 'payoutRatio': 0,\n",
              " 'volume24Hr': None,\n",
              " 'regularMarketDayHigh': 99.53,\n",
              " 'navPrice': None,\n",
              " 'averageDailyVolume10Day': 28401560,\n",
              " 'regularMarketPreviousClose': 93.31,\n",
              " 'fiftyDayAverage': 96.4244,\n",
              " 'trailingAnnualDividendRate': 0,\n",
              " 'open': 97.76,\n",
              " 'toCurrency': None,\n",
              " 'averageVolume10days': 28401560,\n",
              " 'expireDate': None,\n",
              " 'algorithm': None,\n",
              " 'dividendRate': None,\n",
              " 'exDividendDate': None,\n",
              " 'circulatingSupply': None,\n",
              " 'startDate': None,\n",
              " 'regularMarketDayLow': 95.03,\n",
              " 'currency': 'USD',\n",
              " 'trailingPE': 18.89921,\n",
              " 'regularMarketVolume': 37342668,\n",
              " 'lastMarket': None,\n",
              " 'maxSupply': None,\n",
              " 'openInterest': None,\n",
              " 'marketCap': 1239297818624,\n",
              " 'volumeAllCurrencies': None,\n",
              " 'strikePrice': None,\n",
              " 'averageVolume': 32191429,\n",
              " 'dayLow': 95.03,\n",
              " 'ask': 0,\n",
              " 'askSize': 1300,\n",
              " 'volume': 37342668,\n",
              " 'fiftyTwoWeekHigh': 151.5465,\n",
              " 'fromCurrency': None,\n",
              " 'fiveYearAvgDividendYield': None,\n",
              " 'fiftyTwoWeekLow': 83.34,\n",
              " 'bid': 0,\n",
              " 'tradeable': False,\n",
              " 'dividendYield': None,\n",
              " 'bidSize': 800,\n",
              " 'dayHigh': 99.53,\n",
              " 'coinMarketCapLink': None,\n",
              " 'regularMarketPrice': 95.63,\n",
              " 'preMarketPrice': None,\n",
              " 'logo_url': 'https://logo.clearbit.com/abc.xyz',\n",
              " 'trailingPegRatio': 1.3088}"
            ]
          },
          "metadata": {},
          "execution_count": 8
        }
      ]
    },
    {
      "cell_type": "code",
      "source": [
        "historical_data = googl.history(start=start_date, end=end_date, interval=\"1d\").reset_index()\n",
        "historical_data.shape"
      ],
      "metadata": {
        "colab": {
          "base_uri": "https://localhost:8080/"
        },
        "id": "JfeQkKkiK2Jk",
        "outputId": "96023506-b862-4284-d7b1-f1d6737fdf8b"
      },
      "execution_count": null,
      "outputs": [
        {
          "output_type": "execute_result",
          "data": {
            "text/plain": [
              "(4613, 8)"
            ]
          },
          "metadata": {},
          "execution_count": 9
        }
      ]
    },
    {
      "cell_type": "code",
      "source": [
        "# The Total size of the Historical Data Extracted is - 4613 Rows & 8 Columns"
      ],
      "metadata": {
        "id": "hMQfNik5K2G9"
      },
      "execution_count": null,
      "outputs": []
    },
    {
      "cell_type": "markdown",
      "source": [
        "**The Data Represented throughout of Stock Prices are on Per Day Basis.**\n",
        "\n",
        "- High: Maximum Stock Price on that Particular Day.\n",
        "\n",
        "- Low: Lowest Stock Price went on that Particular Day.\n",
        "\n",
        "- Open: Stock Price Opening on that Particular Day.\n",
        "\n",
        "- Close: Final Closing Price of the Stock on that Particular Day.\n",
        "\n",
        "- Volume: Amount of Stock Traded on that Particular Day.\n",
        "\n",
        "- Dividends: Dividens given (if any).\n",
        "\n",
        "- Stock Splits: Stock Splits happen on that Particular Day (if any)."
      ],
      "metadata": {
        "id": "qpZxEGbbLbYd"
      }
    },
    {
      "cell_type": "code",
      "source": [
        "historical_data.head(10)"
      ],
      "metadata": {
        "colab": {
          "base_uri": "https://localhost:8080/",
          "height": 363
        },
        "id": "gZQdd1rgK2EG",
        "outputId": "0643051d-1018-4d02-f2f8-35e2866cc176"
      },
      "execution_count": null,
      "outputs": [
        {
          "output_type": "execute_result",
          "data": {
            "text/plain": [
              "                       Date      Open      High       Low     Close  \\\n",
              "0 2004-08-19 00:00:00-04:00  2.502503  2.604104  2.401401  2.511011   \n",
              "1 2004-08-20 00:00:00-04:00  2.527778  2.729730  2.515015  2.710460   \n",
              "2 2004-08-23 00:00:00-04:00  2.771522  2.839840  2.728979  2.737738   \n",
              "3 2004-08-24 00:00:00-04:00  2.783784  2.792793  2.591842  2.624374   \n",
              "4 2004-08-25 00:00:00-04:00  2.626627  2.702703  2.599600  2.652653   \n",
              "5 2004-08-26 00:00:00-04:00  2.626376  2.701451  2.619119  2.700450   \n",
              "6 2004-08-27 00:00:00-04:00  2.705205  2.718218  2.644895  2.656406   \n",
              "7 2004-08-30 00:00:00-04:00  2.634635  2.639890  2.552803  2.552803   \n",
              "8 2004-08-31 00:00:00-04:00  2.560060  2.595345  2.556557  2.561812   \n",
              "9 2004-09-01 00:00:00-04:00  2.570070  2.576827  2.494244  2.508759   \n",
              "\n",
              "      Volume  Dividends  Stock Splits  \n",
              "0  893181924          0           0.0  \n",
              "1  456686856          0           0.0  \n",
              "2  365122512          0           0.0  \n",
              "3  304946748          0           0.0  \n",
              "4  183772044          0           0.0  \n",
              "5  141897960          0           0.0  \n",
              "6  124235640          0           0.0  \n",
              "7  103935960          0           0.0  \n",
              "8   98357544          0           0.0  \n",
              "9  182765052          0           0.0  "
            ],
            "text/html": [
              "\n",
              "  <div id=\"df-f823ae07-f6d1-4774-b34f-6ddfe123279a\">\n",
              "    <div class=\"colab-df-container\">\n",
              "      <div>\n",
              "<style scoped>\n",
              "    .dataframe tbody tr th:only-of-type {\n",
              "        vertical-align: middle;\n",
              "    }\n",
              "\n",
              "    .dataframe tbody tr th {\n",
              "        vertical-align: top;\n",
              "    }\n",
              "\n",
              "    .dataframe thead th {\n",
              "        text-align: right;\n",
              "    }\n",
              "</style>\n",
              "<table border=\"1\" class=\"dataframe\">\n",
              "  <thead>\n",
              "    <tr style=\"text-align: right;\">\n",
              "      <th></th>\n",
              "      <th>Date</th>\n",
              "      <th>Open</th>\n",
              "      <th>High</th>\n",
              "      <th>Low</th>\n",
              "      <th>Close</th>\n",
              "      <th>Volume</th>\n",
              "      <th>Dividends</th>\n",
              "      <th>Stock Splits</th>\n",
              "    </tr>\n",
              "  </thead>\n",
              "  <tbody>\n",
              "    <tr>\n",
              "      <th>0</th>\n",
              "      <td>2004-08-19 00:00:00-04:00</td>\n",
              "      <td>2.502503</td>\n",
              "      <td>2.604104</td>\n",
              "      <td>2.401401</td>\n",
              "      <td>2.511011</td>\n",
              "      <td>893181924</td>\n",
              "      <td>0</td>\n",
              "      <td>0.0</td>\n",
              "    </tr>\n",
              "    <tr>\n",
              "      <th>1</th>\n",
              "      <td>2004-08-20 00:00:00-04:00</td>\n",
              "      <td>2.527778</td>\n",
              "      <td>2.729730</td>\n",
              "      <td>2.515015</td>\n",
              "      <td>2.710460</td>\n",
              "      <td>456686856</td>\n",
              "      <td>0</td>\n",
              "      <td>0.0</td>\n",
              "    </tr>\n",
              "    <tr>\n",
              "      <th>2</th>\n",
              "      <td>2004-08-23 00:00:00-04:00</td>\n",
              "      <td>2.771522</td>\n",
              "      <td>2.839840</td>\n",
              "      <td>2.728979</td>\n",
              "      <td>2.737738</td>\n",
              "      <td>365122512</td>\n",
              "      <td>0</td>\n",
              "      <td>0.0</td>\n",
              "    </tr>\n",
              "    <tr>\n",
              "      <th>3</th>\n",
              "      <td>2004-08-24 00:00:00-04:00</td>\n",
              "      <td>2.783784</td>\n",
              "      <td>2.792793</td>\n",
              "      <td>2.591842</td>\n",
              "      <td>2.624374</td>\n",
              "      <td>304946748</td>\n",
              "      <td>0</td>\n",
              "      <td>0.0</td>\n",
              "    </tr>\n",
              "    <tr>\n",
              "      <th>4</th>\n",
              "      <td>2004-08-25 00:00:00-04:00</td>\n",
              "      <td>2.626627</td>\n",
              "      <td>2.702703</td>\n",
              "      <td>2.599600</td>\n",
              "      <td>2.652653</td>\n",
              "      <td>183772044</td>\n",
              "      <td>0</td>\n",
              "      <td>0.0</td>\n",
              "    </tr>\n",
              "    <tr>\n",
              "      <th>5</th>\n",
              "      <td>2004-08-26 00:00:00-04:00</td>\n",
              "      <td>2.626376</td>\n",
              "      <td>2.701451</td>\n",
              "      <td>2.619119</td>\n",
              "      <td>2.700450</td>\n",
              "      <td>141897960</td>\n",
              "      <td>0</td>\n",
              "      <td>0.0</td>\n",
              "    </tr>\n",
              "    <tr>\n",
              "      <th>6</th>\n",
              "      <td>2004-08-27 00:00:00-04:00</td>\n",
              "      <td>2.705205</td>\n",
              "      <td>2.718218</td>\n",
              "      <td>2.644895</td>\n",
              "      <td>2.656406</td>\n",
              "      <td>124235640</td>\n",
              "      <td>0</td>\n",
              "      <td>0.0</td>\n",
              "    </tr>\n",
              "    <tr>\n",
              "      <th>7</th>\n",
              "      <td>2004-08-30 00:00:00-04:00</td>\n",
              "      <td>2.634635</td>\n",
              "      <td>2.639890</td>\n",
              "      <td>2.552803</td>\n",
              "      <td>2.552803</td>\n",
              "      <td>103935960</td>\n",
              "      <td>0</td>\n",
              "      <td>0.0</td>\n",
              "    </tr>\n",
              "    <tr>\n",
              "      <th>8</th>\n",
              "      <td>2004-08-31 00:00:00-04:00</td>\n",
              "      <td>2.560060</td>\n",
              "      <td>2.595345</td>\n",
              "      <td>2.556557</td>\n",
              "      <td>2.561812</td>\n",
              "      <td>98357544</td>\n",
              "      <td>0</td>\n",
              "      <td>0.0</td>\n",
              "    </tr>\n",
              "    <tr>\n",
              "      <th>9</th>\n",
              "      <td>2004-09-01 00:00:00-04:00</td>\n",
              "      <td>2.570070</td>\n",
              "      <td>2.576827</td>\n",
              "      <td>2.494244</td>\n",
              "      <td>2.508759</td>\n",
              "      <td>182765052</td>\n",
              "      <td>0</td>\n",
              "      <td>0.0</td>\n",
              "    </tr>\n",
              "  </tbody>\n",
              "</table>\n",
              "</div>\n",
              "      <button class=\"colab-df-convert\" onclick=\"convertToInteractive('df-f823ae07-f6d1-4774-b34f-6ddfe123279a')\"\n",
              "              title=\"Convert this dataframe to an interactive table.\"\n",
              "              style=\"display:none;\">\n",
              "        \n",
              "  <svg xmlns=\"http://www.w3.org/2000/svg\" height=\"24px\"viewBox=\"0 0 24 24\"\n",
              "       width=\"24px\">\n",
              "    <path d=\"M0 0h24v24H0V0z\" fill=\"none\"/>\n",
              "    <path d=\"M18.56 5.44l.94 2.06.94-2.06 2.06-.94-2.06-.94-.94-2.06-.94 2.06-2.06.94zm-11 1L8.5 8.5l.94-2.06 2.06-.94-2.06-.94L8.5 2.5l-.94 2.06-2.06.94zm10 10l.94 2.06.94-2.06 2.06-.94-2.06-.94-.94-2.06-.94 2.06-2.06.94z\"/><path d=\"M17.41 7.96l-1.37-1.37c-.4-.4-.92-.59-1.43-.59-.52 0-1.04.2-1.43.59L10.3 9.45l-7.72 7.72c-.78.78-.78 2.05 0 2.83L4 21.41c.39.39.9.59 1.41.59.51 0 1.02-.2 1.41-.59l7.78-7.78 2.81-2.81c.8-.78.8-2.07 0-2.86zM5.41 20L4 18.59l7.72-7.72 1.47 1.35L5.41 20z\"/>\n",
              "  </svg>\n",
              "      </button>\n",
              "      \n",
              "  <style>\n",
              "    .colab-df-container {\n",
              "      display:flex;\n",
              "      flex-wrap:wrap;\n",
              "      gap: 12px;\n",
              "    }\n",
              "\n",
              "    .colab-df-convert {\n",
              "      background-color: #E8F0FE;\n",
              "      border: none;\n",
              "      border-radius: 50%;\n",
              "      cursor: pointer;\n",
              "      display: none;\n",
              "      fill: #1967D2;\n",
              "      height: 32px;\n",
              "      padding: 0 0 0 0;\n",
              "      width: 32px;\n",
              "    }\n",
              "\n",
              "    .colab-df-convert:hover {\n",
              "      background-color: #E2EBFA;\n",
              "      box-shadow: 0px 1px 2px rgba(60, 64, 67, 0.3), 0px 1px 3px 1px rgba(60, 64, 67, 0.15);\n",
              "      fill: #174EA6;\n",
              "    }\n",
              "\n",
              "    [theme=dark] .colab-df-convert {\n",
              "      background-color: #3B4455;\n",
              "      fill: #D2E3FC;\n",
              "    }\n",
              "\n",
              "    [theme=dark] .colab-df-convert:hover {\n",
              "      background-color: #434B5C;\n",
              "      box-shadow: 0px 1px 3px 1px rgba(0, 0, 0, 0.15);\n",
              "      filter: drop-shadow(0px 1px 2px rgba(0, 0, 0, 0.3));\n",
              "      fill: #FFFFFF;\n",
              "    }\n",
              "  </style>\n",
              "\n",
              "      <script>\n",
              "        const buttonEl =\n",
              "          document.querySelector('#df-f823ae07-f6d1-4774-b34f-6ddfe123279a button.colab-df-convert');\n",
              "        buttonEl.style.display =\n",
              "          google.colab.kernel.accessAllowed ? 'block' : 'none';\n",
              "\n",
              "        async function convertToInteractive(key) {\n",
              "          const element = document.querySelector('#df-f823ae07-f6d1-4774-b34f-6ddfe123279a');\n",
              "          const dataTable =\n",
              "            await google.colab.kernel.invokeFunction('convertToInteractive',\n",
              "                                                     [key], {});\n",
              "          if (!dataTable) return;\n",
              "\n",
              "          const docLinkHtml = 'Like what you see? Visit the ' +\n",
              "            '<a target=\"_blank\" href=https://colab.research.google.com/notebooks/data_table.ipynb>data table notebook</a>'\n",
              "            + ' to learn more about interactive tables.';\n",
              "          element.innerHTML = '';\n",
              "          dataTable['output_type'] = 'display_data';\n",
              "          await google.colab.output.renderOutput(dataTable, element);\n",
              "          const docLink = document.createElement('div');\n",
              "          docLink.innerHTML = docLinkHtml;\n",
              "          element.appendChild(docLink);\n",
              "        }\n",
              "      </script>\n",
              "    </div>\n",
              "  </div>\n",
              "  "
            ]
          },
          "metadata": {},
          "execution_count": 10
        }
      ]
    },
    {
      "cell_type": "code",
      "source": [
        "historical_data.tail(10)"
      ],
      "metadata": {
        "colab": {
          "base_uri": "https://localhost:8080/",
          "height": 363
        },
        "id": "W9YfohgaK2B5",
        "outputId": "592c8288-fc2d-4ef2-8911-c05d7459a50e"
      },
      "execution_count": null,
      "outputs": [
        {
          "output_type": "execute_result",
          "data": {
            "text/plain": [
              "                          Date        Open        High         Low  \\\n",
              "4603 2022-11-30 00:00:00-05:00   94.820000  101.040001   94.419998   \n",
              "4604 2022-12-01 00:00:00-05:00  101.019997  102.250000  100.250000   \n",
              "4605 2022-12-02 00:00:00-05:00   99.050003  100.769997   98.900002   \n",
              "4606 2022-12-05 00:00:00-05:00   99.400002  101.379997   99.000000   \n",
              "4607 2022-12-06 00:00:00-05:00   99.300003   99.779999   96.419998   \n",
              "4608 2022-12-07 00:00:00-05:00   96.410004   96.879997   94.720001   \n",
              "4609 2022-12-08 00:00:00-05:00   95.379997   95.580002   93.449997   \n",
              "4610 2022-12-09 00:00:00-05:00   93.769997   94.260002   92.750000   \n",
              "4611 2022-12-12 00:00:00-05:00   92.709999   93.559998   91.610001   \n",
              "4612 2022-12-13 00:00:00-05:00   97.760002   99.529999   95.029999   \n",
              "\n",
              "           Close    Volume  Dividends  Stock Splits  \n",
              "4603  100.989998  43592300          0           0.0  \n",
              "4604  100.989998  28687100          0           0.0  \n",
              "4605  100.440002  21469400          0           0.0  \n",
              "4606   99.480003  24405100          0           0.0  \n",
              "4607   96.980003  24910700          0           0.0  \n",
              "4608   94.940002  31045400          0           0.0  \n",
              "4609   93.709999  32213300          0           0.0  \n",
              "4610   92.830002  28210600          0           0.0  \n",
              "4611   93.309998  29420000          0           0.0  \n",
              "4612   95.629997  40553700          0           0.0  "
            ],
            "text/html": [
              "\n",
              "  <div id=\"df-8714fa6c-3c1c-4a5a-973b-518fe2769ad0\">\n",
              "    <div class=\"colab-df-container\">\n",
              "      <div>\n",
              "<style scoped>\n",
              "    .dataframe tbody tr th:only-of-type {\n",
              "        vertical-align: middle;\n",
              "    }\n",
              "\n",
              "    .dataframe tbody tr th {\n",
              "        vertical-align: top;\n",
              "    }\n",
              "\n",
              "    .dataframe thead th {\n",
              "        text-align: right;\n",
              "    }\n",
              "</style>\n",
              "<table border=\"1\" class=\"dataframe\">\n",
              "  <thead>\n",
              "    <tr style=\"text-align: right;\">\n",
              "      <th></th>\n",
              "      <th>Date</th>\n",
              "      <th>Open</th>\n",
              "      <th>High</th>\n",
              "      <th>Low</th>\n",
              "      <th>Close</th>\n",
              "      <th>Volume</th>\n",
              "      <th>Dividends</th>\n",
              "      <th>Stock Splits</th>\n",
              "    </tr>\n",
              "  </thead>\n",
              "  <tbody>\n",
              "    <tr>\n",
              "      <th>4603</th>\n",
              "      <td>2022-11-30 00:00:00-05:00</td>\n",
              "      <td>94.820000</td>\n",
              "      <td>101.040001</td>\n",
              "      <td>94.419998</td>\n",
              "      <td>100.989998</td>\n",
              "      <td>43592300</td>\n",
              "      <td>0</td>\n",
              "      <td>0.0</td>\n",
              "    </tr>\n",
              "    <tr>\n",
              "      <th>4604</th>\n",
              "      <td>2022-12-01 00:00:00-05:00</td>\n",
              "      <td>101.019997</td>\n",
              "      <td>102.250000</td>\n",
              "      <td>100.250000</td>\n",
              "      <td>100.989998</td>\n",
              "      <td>28687100</td>\n",
              "      <td>0</td>\n",
              "      <td>0.0</td>\n",
              "    </tr>\n",
              "    <tr>\n",
              "      <th>4605</th>\n",
              "      <td>2022-12-02 00:00:00-05:00</td>\n",
              "      <td>99.050003</td>\n",
              "      <td>100.769997</td>\n",
              "      <td>98.900002</td>\n",
              "      <td>100.440002</td>\n",
              "      <td>21469400</td>\n",
              "      <td>0</td>\n",
              "      <td>0.0</td>\n",
              "    </tr>\n",
              "    <tr>\n",
              "      <th>4606</th>\n",
              "      <td>2022-12-05 00:00:00-05:00</td>\n",
              "      <td>99.400002</td>\n",
              "      <td>101.379997</td>\n",
              "      <td>99.000000</td>\n",
              "      <td>99.480003</td>\n",
              "      <td>24405100</td>\n",
              "      <td>0</td>\n",
              "      <td>0.0</td>\n",
              "    </tr>\n",
              "    <tr>\n",
              "      <th>4607</th>\n",
              "      <td>2022-12-06 00:00:00-05:00</td>\n",
              "      <td>99.300003</td>\n",
              "      <td>99.779999</td>\n",
              "      <td>96.419998</td>\n",
              "      <td>96.980003</td>\n",
              "      <td>24910700</td>\n",
              "      <td>0</td>\n",
              "      <td>0.0</td>\n",
              "    </tr>\n",
              "    <tr>\n",
              "      <th>4608</th>\n",
              "      <td>2022-12-07 00:00:00-05:00</td>\n",
              "      <td>96.410004</td>\n",
              "      <td>96.879997</td>\n",
              "      <td>94.720001</td>\n",
              "      <td>94.940002</td>\n",
              "      <td>31045400</td>\n",
              "      <td>0</td>\n",
              "      <td>0.0</td>\n",
              "    </tr>\n",
              "    <tr>\n",
              "      <th>4609</th>\n",
              "      <td>2022-12-08 00:00:00-05:00</td>\n",
              "      <td>95.379997</td>\n",
              "      <td>95.580002</td>\n",
              "      <td>93.449997</td>\n",
              "      <td>93.709999</td>\n",
              "      <td>32213300</td>\n",
              "      <td>0</td>\n",
              "      <td>0.0</td>\n",
              "    </tr>\n",
              "    <tr>\n",
              "      <th>4610</th>\n",
              "      <td>2022-12-09 00:00:00-05:00</td>\n",
              "      <td>93.769997</td>\n",
              "      <td>94.260002</td>\n",
              "      <td>92.750000</td>\n",
              "      <td>92.830002</td>\n",
              "      <td>28210600</td>\n",
              "      <td>0</td>\n",
              "      <td>0.0</td>\n",
              "    </tr>\n",
              "    <tr>\n",
              "      <th>4611</th>\n",
              "      <td>2022-12-12 00:00:00-05:00</td>\n",
              "      <td>92.709999</td>\n",
              "      <td>93.559998</td>\n",
              "      <td>91.610001</td>\n",
              "      <td>93.309998</td>\n",
              "      <td>29420000</td>\n",
              "      <td>0</td>\n",
              "      <td>0.0</td>\n",
              "    </tr>\n",
              "    <tr>\n",
              "      <th>4612</th>\n",
              "      <td>2022-12-13 00:00:00-05:00</td>\n",
              "      <td>97.760002</td>\n",
              "      <td>99.529999</td>\n",
              "      <td>95.029999</td>\n",
              "      <td>95.629997</td>\n",
              "      <td>40553700</td>\n",
              "      <td>0</td>\n",
              "      <td>0.0</td>\n",
              "    </tr>\n",
              "  </tbody>\n",
              "</table>\n",
              "</div>\n",
              "      <button class=\"colab-df-convert\" onclick=\"convertToInteractive('df-8714fa6c-3c1c-4a5a-973b-518fe2769ad0')\"\n",
              "              title=\"Convert this dataframe to an interactive table.\"\n",
              "              style=\"display:none;\">\n",
              "        \n",
              "  <svg xmlns=\"http://www.w3.org/2000/svg\" height=\"24px\"viewBox=\"0 0 24 24\"\n",
              "       width=\"24px\">\n",
              "    <path d=\"M0 0h24v24H0V0z\" fill=\"none\"/>\n",
              "    <path d=\"M18.56 5.44l.94 2.06.94-2.06 2.06-.94-2.06-.94-.94-2.06-.94 2.06-2.06.94zm-11 1L8.5 8.5l.94-2.06 2.06-.94-2.06-.94L8.5 2.5l-.94 2.06-2.06.94zm10 10l.94 2.06.94-2.06 2.06-.94-2.06-.94-.94-2.06-.94 2.06-2.06.94z\"/><path d=\"M17.41 7.96l-1.37-1.37c-.4-.4-.92-.59-1.43-.59-.52 0-1.04.2-1.43.59L10.3 9.45l-7.72 7.72c-.78.78-.78 2.05 0 2.83L4 21.41c.39.39.9.59 1.41.59.51 0 1.02-.2 1.41-.59l7.78-7.78 2.81-2.81c.8-.78.8-2.07 0-2.86zM5.41 20L4 18.59l7.72-7.72 1.47 1.35L5.41 20z\"/>\n",
              "  </svg>\n",
              "      </button>\n",
              "      \n",
              "  <style>\n",
              "    .colab-df-container {\n",
              "      display:flex;\n",
              "      flex-wrap:wrap;\n",
              "      gap: 12px;\n",
              "    }\n",
              "\n",
              "    .colab-df-convert {\n",
              "      background-color: #E8F0FE;\n",
              "      border: none;\n",
              "      border-radius: 50%;\n",
              "      cursor: pointer;\n",
              "      display: none;\n",
              "      fill: #1967D2;\n",
              "      height: 32px;\n",
              "      padding: 0 0 0 0;\n",
              "      width: 32px;\n",
              "    }\n",
              "\n",
              "    .colab-df-convert:hover {\n",
              "      background-color: #E2EBFA;\n",
              "      box-shadow: 0px 1px 2px rgba(60, 64, 67, 0.3), 0px 1px 3px 1px rgba(60, 64, 67, 0.15);\n",
              "      fill: #174EA6;\n",
              "    }\n",
              "\n",
              "    [theme=dark] .colab-df-convert {\n",
              "      background-color: #3B4455;\n",
              "      fill: #D2E3FC;\n",
              "    }\n",
              "\n",
              "    [theme=dark] .colab-df-convert:hover {\n",
              "      background-color: #434B5C;\n",
              "      box-shadow: 0px 1px 3px 1px rgba(0, 0, 0, 0.15);\n",
              "      filter: drop-shadow(0px 1px 2px rgba(0, 0, 0, 0.3));\n",
              "      fill: #FFFFFF;\n",
              "    }\n",
              "  </style>\n",
              "\n",
              "      <script>\n",
              "        const buttonEl =\n",
              "          document.querySelector('#df-8714fa6c-3c1c-4a5a-973b-518fe2769ad0 button.colab-df-convert');\n",
              "        buttonEl.style.display =\n",
              "          google.colab.kernel.accessAllowed ? 'block' : 'none';\n",
              "\n",
              "        async function convertToInteractive(key) {\n",
              "          const element = document.querySelector('#df-8714fa6c-3c1c-4a5a-973b-518fe2769ad0');\n",
              "          const dataTable =\n",
              "            await google.colab.kernel.invokeFunction('convertToInteractive',\n",
              "                                                     [key], {});\n",
              "          if (!dataTable) return;\n",
              "\n",
              "          const docLinkHtml = 'Like what you see? Visit the ' +\n",
              "            '<a target=\"_blank\" href=https://colab.research.google.com/notebooks/data_table.ipynb>data table notebook</a>'\n",
              "            + ' to learn more about interactive tables.';\n",
              "          element.innerHTML = '';\n",
              "          dataTable['output_type'] = 'display_data';\n",
              "          await google.colab.output.renderOutput(dataTable, element);\n",
              "          const docLink = document.createElement('div');\n",
              "          docLink.innerHTML = docLinkHtml;\n",
              "          element.appendChild(docLink);\n",
              "        }\n",
              "      </script>\n",
              "    </div>\n",
              "  </div>\n",
              "  "
            ]
          },
          "metadata": {},
          "execution_count": 12
        }
      ]
    },
    {
      "cell_type": "code",
      "source": [
        "#Statistical Representation of Data [Mean, SD, Percentile, Coutnt, etc...]\n",
        "historical_data.describe()"
      ],
      "metadata": {
        "colab": {
          "base_uri": "https://localhost:8080/",
          "height": 300
        },
        "id": "pnMEOND0L4pg",
        "outputId": "16c55cd0-da4c-4e9a-ab8b-b7cfc6eca741"
      },
      "execution_count": null,
      "outputs": [
        {
          "output_type": "execute_result",
          "data": {
            "text/plain": [
              "              Open         High          Low        Close        Volume  \\\n",
              "count  4613.000000  4613.000000  4613.000000  4613.000000  4.613000e+03   \n",
              "mean     37.629328    38.010980    37.231442    37.627494  1.251390e+08   \n",
              "std      34.941649    35.318311    34.551242    34.938528  1.518995e+08   \n",
              "min       2.482232     2.546046     2.401401     2.502753  9.312000e+06   \n",
              "25%      12.638388    12.762763    12.460711    12.636386  3.315200e+07   \n",
              "50%      23.130630    23.222471    22.930429    23.098099  7.079314e+07   \n",
              "75%      53.950001    54.421001    53.334000    53.903999  1.540938e+08   \n",
              "max     151.250000   151.546494   148.899002   149.838501  1.643023e+09   \n",
              "\n",
              "       Dividends  Stock Splits  \n",
              "count     4613.0   4613.000000  \n",
              "mean         0.0      0.004769  \n",
              "std          0.0      0.295928  \n",
              "min          0.0      0.000000  \n",
              "25%          0.0      0.000000  \n",
              "50%          0.0      0.000000  \n",
              "75%          0.0      0.000000  \n",
              "max          0.0     20.000000  "
            ],
            "text/html": [
              "\n",
              "  <div id=\"df-fb8766df-854a-4cb6-a874-7420ca841a16\">\n",
              "    <div class=\"colab-df-container\">\n",
              "      <div>\n",
              "<style scoped>\n",
              "    .dataframe tbody tr th:only-of-type {\n",
              "        vertical-align: middle;\n",
              "    }\n",
              "\n",
              "    .dataframe tbody tr th {\n",
              "        vertical-align: top;\n",
              "    }\n",
              "\n",
              "    .dataframe thead th {\n",
              "        text-align: right;\n",
              "    }\n",
              "</style>\n",
              "<table border=\"1\" class=\"dataframe\">\n",
              "  <thead>\n",
              "    <tr style=\"text-align: right;\">\n",
              "      <th></th>\n",
              "      <th>Open</th>\n",
              "      <th>High</th>\n",
              "      <th>Low</th>\n",
              "      <th>Close</th>\n",
              "      <th>Volume</th>\n",
              "      <th>Dividends</th>\n",
              "      <th>Stock Splits</th>\n",
              "    </tr>\n",
              "  </thead>\n",
              "  <tbody>\n",
              "    <tr>\n",
              "      <th>count</th>\n",
              "      <td>4613.000000</td>\n",
              "      <td>4613.000000</td>\n",
              "      <td>4613.000000</td>\n",
              "      <td>4613.000000</td>\n",
              "      <td>4.613000e+03</td>\n",
              "      <td>4613.0</td>\n",
              "      <td>4613.000000</td>\n",
              "    </tr>\n",
              "    <tr>\n",
              "      <th>mean</th>\n",
              "      <td>37.629328</td>\n",
              "      <td>38.010980</td>\n",
              "      <td>37.231442</td>\n",
              "      <td>37.627494</td>\n",
              "      <td>1.251390e+08</td>\n",
              "      <td>0.0</td>\n",
              "      <td>0.004769</td>\n",
              "    </tr>\n",
              "    <tr>\n",
              "      <th>std</th>\n",
              "      <td>34.941649</td>\n",
              "      <td>35.318311</td>\n",
              "      <td>34.551242</td>\n",
              "      <td>34.938528</td>\n",
              "      <td>1.518995e+08</td>\n",
              "      <td>0.0</td>\n",
              "      <td>0.295928</td>\n",
              "    </tr>\n",
              "    <tr>\n",
              "      <th>min</th>\n",
              "      <td>2.482232</td>\n",
              "      <td>2.546046</td>\n",
              "      <td>2.401401</td>\n",
              "      <td>2.502753</td>\n",
              "      <td>9.312000e+06</td>\n",
              "      <td>0.0</td>\n",
              "      <td>0.000000</td>\n",
              "    </tr>\n",
              "    <tr>\n",
              "      <th>25%</th>\n",
              "      <td>12.638388</td>\n",
              "      <td>12.762763</td>\n",
              "      <td>12.460711</td>\n",
              "      <td>12.636386</td>\n",
              "      <td>3.315200e+07</td>\n",
              "      <td>0.0</td>\n",
              "      <td>0.000000</td>\n",
              "    </tr>\n",
              "    <tr>\n",
              "      <th>50%</th>\n",
              "      <td>23.130630</td>\n",
              "      <td>23.222471</td>\n",
              "      <td>22.930429</td>\n",
              "      <td>23.098099</td>\n",
              "      <td>7.079314e+07</td>\n",
              "      <td>0.0</td>\n",
              "      <td>0.000000</td>\n",
              "    </tr>\n",
              "    <tr>\n",
              "      <th>75%</th>\n",
              "      <td>53.950001</td>\n",
              "      <td>54.421001</td>\n",
              "      <td>53.334000</td>\n",
              "      <td>53.903999</td>\n",
              "      <td>1.540938e+08</td>\n",
              "      <td>0.0</td>\n",
              "      <td>0.000000</td>\n",
              "    </tr>\n",
              "    <tr>\n",
              "      <th>max</th>\n",
              "      <td>151.250000</td>\n",
              "      <td>151.546494</td>\n",
              "      <td>148.899002</td>\n",
              "      <td>149.838501</td>\n",
              "      <td>1.643023e+09</td>\n",
              "      <td>0.0</td>\n",
              "      <td>20.000000</td>\n",
              "    </tr>\n",
              "  </tbody>\n",
              "</table>\n",
              "</div>\n",
              "      <button class=\"colab-df-convert\" onclick=\"convertToInteractive('df-fb8766df-854a-4cb6-a874-7420ca841a16')\"\n",
              "              title=\"Convert this dataframe to an interactive table.\"\n",
              "              style=\"display:none;\">\n",
              "        \n",
              "  <svg xmlns=\"http://www.w3.org/2000/svg\" height=\"24px\"viewBox=\"0 0 24 24\"\n",
              "       width=\"24px\">\n",
              "    <path d=\"M0 0h24v24H0V0z\" fill=\"none\"/>\n",
              "    <path d=\"M18.56 5.44l.94 2.06.94-2.06 2.06-.94-2.06-.94-.94-2.06-.94 2.06-2.06.94zm-11 1L8.5 8.5l.94-2.06 2.06-.94-2.06-.94L8.5 2.5l-.94 2.06-2.06.94zm10 10l.94 2.06.94-2.06 2.06-.94-2.06-.94-.94-2.06-.94 2.06-2.06.94z\"/><path d=\"M17.41 7.96l-1.37-1.37c-.4-.4-.92-.59-1.43-.59-.52 0-1.04.2-1.43.59L10.3 9.45l-7.72 7.72c-.78.78-.78 2.05 0 2.83L4 21.41c.39.39.9.59 1.41.59.51 0 1.02-.2 1.41-.59l7.78-7.78 2.81-2.81c.8-.78.8-2.07 0-2.86zM5.41 20L4 18.59l7.72-7.72 1.47 1.35L5.41 20z\"/>\n",
              "  </svg>\n",
              "      </button>\n",
              "      \n",
              "  <style>\n",
              "    .colab-df-container {\n",
              "      display:flex;\n",
              "      flex-wrap:wrap;\n",
              "      gap: 12px;\n",
              "    }\n",
              "\n",
              "    .colab-df-convert {\n",
              "      background-color: #E8F0FE;\n",
              "      border: none;\n",
              "      border-radius: 50%;\n",
              "      cursor: pointer;\n",
              "      display: none;\n",
              "      fill: #1967D2;\n",
              "      height: 32px;\n",
              "      padding: 0 0 0 0;\n",
              "      width: 32px;\n",
              "    }\n",
              "\n",
              "    .colab-df-convert:hover {\n",
              "      background-color: #E2EBFA;\n",
              "      box-shadow: 0px 1px 2px rgba(60, 64, 67, 0.3), 0px 1px 3px 1px rgba(60, 64, 67, 0.15);\n",
              "      fill: #174EA6;\n",
              "    }\n",
              "\n",
              "    [theme=dark] .colab-df-convert {\n",
              "      background-color: #3B4455;\n",
              "      fill: #D2E3FC;\n",
              "    }\n",
              "\n",
              "    [theme=dark] .colab-df-convert:hover {\n",
              "      background-color: #434B5C;\n",
              "      box-shadow: 0px 1px 3px 1px rgba(0, 0, 0, 0.15);\n",
              "      filter: drop-shadow(0px 1px 2px rgba(0, 0, 0, 0.3));\n",
              "      fill: #FFFFFF;\n",
              "    }\n",
              "  </style>\n",
              "\n",
              "      <script>\n",
              "        const buttonEl =\n",
              "          document.querySelector('#df-fb8766df-854a-4cb6-a874-7420ca841a16 button.colab-df-convert');\n",
              "        buttonEl.style.display =\n",
              "          google.colab.kernel.accessAllowed ? 'block' : 'none';\n",
              "\n",
              "        async function convertToInteractive(key) {\n",
              "          const element = document.querySelector('#df-fb8766df-854a-4cb6-a874-7420ca841a16');\n",
              "          const dataTable =\n",
              "            await google.colab.kernel.invokeFunction('convertToInteractive',\n",
              "                                                     [key], {});\n",
              "          if (!dataTable) return;\n",
              "\n",
              "          const docLinkHtml = 'Like what you see? Visit the ' +\n",
              "            '<a target=\"_blank\" href=https://colab.research.google.com/notebooks/data_table.ipynb>data table notebook</a>'\n",
              "            + ' to learn more about interactive tables.';\n",
              "          element.innerHTML = '';\n",
              "          dataTable['output_type'] = 'display_data';\n",
              "          await google.colab.output.renderOutput(dataTable, element);\n",
              "          const docLink = document.createElement('div');\n",
              "          docLink.innerHTML = docLinkHtml;\n",
              "          element.appendChild(docLink);\n",
              "        }\n",
              "      </script>\n",
              "    </div>\n",
              "  </div>\n",
              "  "
            ]
          },
          "metadata": {},
          "execution_count": 13
        }
      ]
    },
    {
      "cell_type": "code",
      "source": [
        "historical_data.columns"
      ],
      "metadata": {
        "colab": {
          "base_uri": "https://localhost:8080/"
        },
        "id": "q_O8lXwmL4mZ",
        "outputId": "50aa7607-dc1d-4718-8282-54b413dc8880"
      },
      "execution_count": null,
      "outputs": [
        {
          "output_type": "execute_result",
          "data": {
            "text/plain": [
              "Index(['Date', 'Open', 'High', 'Low', 'Close', 'Volume', 'Dividends',\n",
              "       'Stock Splits'],\n",
              "      dtype='object')"
            ]
          },
          "metadata": {},
          "execution_count": 15
        }
      ]
    },
    {
      "cell_type": "code",
      "source": [
        "historical_data.nunique()"
      ],
      "metadata": {
        "colab": {
          "base_uri": "https://localhost:8080/"
        },
        "id": "kMzC85X7L4jQ",
        "outputId": "5ba07312-1f43-46fe-d650-41e29aac6345"
      },
      "execution_count": null,
      "outputs": [
        {
          "output_type": "execute_result",
          "data": {
            "text/plain": [
              "Date            4613\n",
              "Open            4494\n",
              "High            4458\n",
              "Low             4501\n",
              "Close           4532\n",
              "Volume          4492\n",
              "Dividends          1\n",
              "Stock Splits       3\n",
              "dtype: int64"
            ]
          },
          "metadata": {},
          "execution_count": 17
        }
      ]
    },
    {
      "cell_type": "code",
      "source": [
        "fig = plt.figure()\n",
        "plt.plot(historical_data.Close)\n",
        "plt.legend([\"Close\", \"Open\"])"
      ],
      "metadata": {
        "colab": {
          "base_uri": "https://localhost:8080/",
          "height": 282
        },
        "id": "sdzSl0faL4fn",
        "outputId": "f48fb889-aca5-4fc6-973f-510c2e15f319"
      },
      "execution_count": null,
      "outputs": [
        {
          "output_type": "execute_result",
          "data": {
            "text/plain": [
              "<matplotlib.legend.Legend at 0x7f80ec337040>"
            ]
          },
          "metadata": {},
          "execution_count": 18
        },
        {
          "output_type": "display_data",
          "data": {
            "text/plain": [
              "<Figure size 432x288 with 1 Axes>"
            ],
            "image/png": "[encoded data removed]"
          },
          "metadata": {
            "needs_background": "light"
          }
        }
      ]
    },
    {
      "cell_type": "markdown",
      "source": [
        "### **Data Cleaning**"
      ],
      "metadata": {
        "id": "44vUPA0mMar1"
      }
    },
    {
      "cell_type": "code",
      "source": [
        "# Delete unnecessary columns\n",
        "\n",
        "historical_data.drop(historical_data.columns.difference(['Date', 'Open', 'Close']), 1, inplace=True)"
      ],
      "metadata": {
        "colab": {
          "base_uri": "https://localhost:8080/"
        },
        "id": "eikUlD_pL4cP",
        "outputId": "7daaf82f-ed9f-4c5f-d4dd-4a4696638fbe"
      },
      "execution_count": null,
      "outputs": [
        {
          "output_type": "stream",
          "name": "stderr",
          "text": [
            "<ipython-input-19-353ddb849f0d>:3: FutureWarning: In a future version of pandas all arguments of DataFrame.drop except for the argument 'labels' will be keyword-only\n",
            "  historical_data.drop(historical_data.columns.difference(['Date', 'Open', 'Close']), 1, inplace=True)\n"
          ]
        }
      ]
    },
    {
      "cell_type": "code",
      "source": [
        "historical_data.head(10)"
      ],
      "metadata": {
        "colab": {
          "base_uri": "https://localhost:8080/",
          "height": 363
        },
        "id": "a-3IZSJ3L4ZS",
        "outputId": "c7021bd8-2460-4f64-be5a-ec67d7bb36a1"
      },
      "execution_count": null,
      "outputs": [
        {
          "output_type": "execute_result",
          "data": {
            "text/plain": [
              "                       Date      Open     Close\n",
              "0 2004-08-19 00:00:00-04:00  2.502503  2.511011\n",
              "1 2004-08-20 00:00:00-04:00  2.527778  2.710460\n",
              "2 2004-08-23 00:00:00-04:00  2.771522  2.737738\n",
              "3 2004-08-24 00:00:00-04:00  2.783784  2.624374\n",
              "4 2004-08-25 00:00:00-04:00  2.626627  2.652653\n",
              "5 2004-08-26 00:00:00-04:00  2.626376  2.700450\n",
              "6 2004-08-27 00:00:00-04:00  2.705205  2.656406\n",
              "7 2004-08-30 00:00:00-04:00  2.634635  2.552803\n",
              "8 2004-08-31 00:00:00-04:00  2.560060  2.561812\n",
              "9 2004-09-01 00:00:00-04:00  2.570070  2.508759"
            ],
            "text/html": [
              "\n",
              "  <div id=\"df-39a55531-9361-4cb4-a6dd-0306b5875ee9\">\n",
              "    <div class=\"colab-df-container\">\n",
              "      <div>\n",
              "<style scoped>\n",
              "    .dataframe tbody tr th:only-of-type {\n",
              "        vertical-align: middle;\n",
              "    }\n",
              "\n",
              "    .dataframe tbody tr th {\n",
              "        vertical-align: top;\n",
              "    }\n",
              "\n",
              "    .dataframe thead th {\n",
              "        text-align: right;\n",
              "    }\n",
              "</style>\n",
              "<table border=\"1\" class=\"dataframe\">\n",
              "  <thead>\n",
              "    <tr style=\"text-align: right;\">\n",
              "      <th></th>\n",
              "      <th>Date</th>\n",
              "      <th>Open</th>\n",
              "      <th>Close</th>\n",
              "    </tr>\n",
              "  </thead>\n",
              "  <tbody>\n",
              "    <tr>\n",
              "      <th>0</th>\n",
              "      <td>2004-08-19 00:00:00-04:00</td>\n",
              "      <td>2.502503</td>\n",
              "      <td>2.511011</td>\n",
              "    </tr>\n",
              "    <tr>\n",
              "      <th>1</th>\n",
              "      <td>2004-08-20 00:00:00-04:00</td>\n",
              "      <td>2.527778</td>\n",
              "      <td>2.710460</td>\n",
              "    </tr>\n",
              "    <tr>\n",
              "      <th>2</th>\n",
              "      <td>2004-08-23 00:00:00-04:00</td>\n",
              "      <td>2.771522</td>\n",
              "      <td>2.737738</td>\n",
              "    </tr>\n",
              "    <tr>\n",
              "      <th>3</th>\n",
              "      <td>2004-08-24 00:00:00-04:00</td>\n",
              "      <td>2.783784</td>\n",
              "      <td>2.624374</td>\n",
              "    </tr>\n",
              "    <tr>\n",
              "      <th>4</th>\n",
              "      <td>2004-08-25 00:00:00-04:00</td>\n",
              "      <td>2.626627</td>\n",
              "      <td>2.652653</td>\n",
              "    </tr>\n",
              "    <tr>\n",
              "      <th>5</th>\n",
              "      <td>2004-08-26 00:00:00-04:00</td>\n",
              "      <td>2.626376</td>\n",
              "      <td>2.700450</td>\n",
              "    </tr>\n",
              "    <tr>\n",
              "      <th>6</th>\n",
              "      <td>2004-08-27 00:00:00-04:00</td>\n",
              "      <td>2.705205</td>\n",
              "      <td>2.656406</td>\n",
              "    </tr>\n",
              "    <tr>\n",
              "      <th>7</th>\n",
              "      <td>2004-08-30 00:00:00-04:00</td>\n",
              "      <td>2.634635</td>\n",
              "      <td>2.552803</td>\n",
              "    </tr>\n",
              "    <tr>\n",
              "      <th>8</th>\n",
              "      <td>2004-08-31 00:00:00-04:00</td>\n",
              "      <td>2.560060</td>\n",
              "      <td>2.561812</td>\n",
              "    </tr>\n",
              "    <tr>\n",
              "      <th>9</th>\n",
              "      <td>2004-09-01 00:00:00-04:00</td>\n",
              "      <td>2.570070</td>\n",
              "      <td>2.508759</td>\n",
              "    </tr>\n",
              "  </tbody>\n",
              "</table>\n",
              "</div>\n",
              "      <button class=\"colab-df-convert\" onclick=\"convertToInteractive('df-39a55531-9361-4cb4-a6dd-0306b5875ee9')\"\n",
              "              title=\"Convert this dataframe to an interactive table.\"\n",
              "              style=\"display:none;\">\n",
              "        \n",
              "  <svg xmlns=\"http://www.w3.org/2000/svg\" height=\"24px\"viewBox=\"0 0 24 24\"\n",
              "       width=\"24px\">\n",
              "    <path d=\"M0 0h24v24H0V0z\" fill=\"none\"/>\n",
              "    <path d=\"M18.56 5.44l.94 2.06.94-2.06 2.06-.94-2.06-.94-.94-2.06-.94 2.06-2.06.94zm-11 1L8.5 8.5l.94-2.06 2.06-.94-2.06-.94L8.5 2.5l-.94 2.06-2.06.94zm10 10l.94 2.06.94-2.06 2.06-.94-2.06-.94-.94-2.06-.94 2.06-2.06.94z\"/><path d=\"M17.41 7.96l-1.37-1.37c-.4-.4-.92-.59-1.43-.59-.52 0-1.04.2-1.43.59L10.3 9.45l-7.72 7.72c-.78.78-.78 2.05 0 2.83L4 21.41c.39.39.9.59 1.41.59.51 0 1.02-.2 1.41-.59l7.78-7.78 2.81-2.81c.8-.78.8-2.07 0-2.86zM5.41 20L4 18.59l7.72-7.72 1.47 1.35L5.41 20z\"/>\n",
              "  </svg>\n",
              "      </button>\n",
              "      \n",
              "  <style>\n",
              "    .colab-df-container {\n",
              "      display:flex;\n",
              "      flex-wrap:wrap;\n",
              "      gap: 12px;\n",
              "    }\n",
              "\n",
              "    .colab-df-convert {\n",
              "      background-color: #E8F0FE;\n",
              "      border: none;\n",
              "      border-radius: 50%;\n",
              "      cursor: pointer;\n",
              "      display: none;\n",
              "      fill: #1967D2;\n",
              "      height: 32px;\n",
              "      padding: 0 0 0 0;\n",
              "      width: 32px;\n",
              "    }\n",
              "\n",
              "    .colab-df-convert:hover {\n",
              "      background-color: #E2EBFA;\n",
              "      box-shadow: 0px 1px 2px rgba(60, 64, 67, 0.3), 0px 1px 3px 1px rgba(60, 64, 67, 0.15);\n",
              "      fill: #174EA6;\n",
              "    }\n",
              "\n",
              "    [theme=dark] .colab-df-convert {\n",
              "      background-color: #3B4455;\n",
              "      fill: #D2E3FC;\n",
              "    }\n",
              "\n",
              "    [theme=dark] .colab-df-convert:hover {\n",
              "      background-color: #434B5C;\n",
              "      box-shadow: 0px 1px 3px 1px rgba(0, 0, 0, 0.15);\n",
              "      filter: drop-shadow(0px 1px 2px rgba(0, 0, 0, 0.3));\n",
              "      fill: #FFFFFF;\n",
              "    }\n",
              "  </style>\n",
              "\n",
              "      <script>\n",
              "        const buttonEl =\n",
              "          document.querySelector('#df-39a55531-9361-4cb4-a6dd-0306b5875ee9 button.colab-df-convert');\n",
              "        buttonEl.style.display =\n",
              "          google.colab.kernel.accessAllowed ? 'block' : 'none';\n",
              "\n",
              "        async function convertToInteractive(key) {\n",
              "          const element = document.querySelector('#df-39a55531-9361-4cb4-a6dd-0306b5875ee9');\n",
              "          const dataTable =\n",
              "            await google.colab.kernel.invokeFunction('convertToInteractive',\n",
              "                                                     [key], {});\n",
              "          if (!dataTable) return;\n",
              "\n",
              "          const docLinkHtml = 'Like what you see? Visit the ' +\n",
              "            '<a target=\"_blank\" href=https://colab.research.google.com/notebooks/data_table.ipynb>data table notebook</a>'\n",
              "            + ' to learn more about interactive tables.';\n",
              "          element.innerHTML = '';\n",
              "          dataTable['output_type'] = 'display_data';\n",
              "          await google.colab.output.renderOutput(dataTable, element);\n",
              "          const docLink = document.createElement('div');\n",
              "          docLink.innerHTML = docLinkHtml;\n",
              "          element.appendChild(docLink);\n",
              "        }\n",
              "      </script>\n",
              "    </div>\n",
              "  </div>\n",
              "  "
            ]
          },
          "metadata": {},
          "execution_count": 20
        }
      ]
    },
    {
      "cell_type": "code",
      "source": [
        "historical_data.tail(10)"
      ],
      "metadata": {
        "colab": {
          "base_uri": "https://localhost:8080/",
          "height": 363
        },
        "id": "5QoN5daGMy0v",
        "outputId": "71578a0c-1971-4983-9fbe-6a40d551b111"
      },
      "execution_count": null,
      "outputs": [
        {
          "output_type": "execute_result",
          "data": {
            "text/plain": [
              "                          Date        Open       Close\n",
              "4603 2022-11-30 00:00:00-05:00   94.820000  100.989998\n",
              "4604 2022-12-01 00:00:00-05:00  101.019997  100.989998\n",
              "4605 2022-12-02 00:00:00-05:00   99.050003  100.440002\n",
              "4606 2022-12-05 00:00:00-05:00   99.400002   99.480003\n",
              "4607 2022-12-06 00:00:00-05:00   99.300003   96.980003\n",
              "4608 2022-12-07 00:00:00-05:00   96.410004   94.940002\n",
              "4609 2022-12-08 00:00:00-05:00   95.379997   93.709999\n",
              "4610 2022-12-09 00:00:00-05:00   93.769997   92.830002\n",
              "4611 2022-12-12 00:00:00-05:00   92.709999   93.309998\n",
              "4612 2022-12-13 00:00:00-05:00   97.760002   95.629997"
            ],
            "text/html": [
              "\n",
              "  <div id=\"df-d97cd8cc-4d75-4c44-a5a0-c0e532f6582a\">\n",
              "    <div class=\"colab-df-container\">\n",
              "      <div>\n",
              "<style scoped>\n",
              "    .dataframe tbody tr th:only-of-type {\n",
              "        vertical-align: middle;\n",
              "    }\n",
              "\n",
              "    .dataframe tbody tr th {\n",
              "        vertical-align: top;\n",
              "    }\n",
              "\n",
              "    .dataframe thead th {\n",
              "        text-align: right;\n",
              "    }\n",
              "</style>\n",
              "<table border=\"1\" class=\"dataframe\">\n",
              "  <thead>\n",
              "    <tr style=\"text-align: right;\">\n",
              "      <th></th>\n",
              "      <th>Date</th>\n",
              "      <th>Open</th>\n",
              "      <th>Close</th>\n",
              "    </tr>\n",
              "  </thead>\n",
              "  <tbody>\n",
              "    <tr>\n",
              "      <th>4603</th>\n",
              "      <td>2022-11-30 00:00:00-05:00</td>\n",
              "      <td>94.820000</td>\n",
              "      <td>100.989998</td>\n",
              "    </tr>\n",
              "    <tr>\n",
              "      <th>4604</th>\n",
              "      <td>2022-12-01 00:00:00-05:00</td>\n",
              "      <td>101.019997</td>\n",
              "      <td>100.989998</td>\n",
              "    </tr>\n",
              "    <tr>\n",
              "      <th>4605</th>\n",
              "      <td>2022-12-02 00:00:00-05:00</td>\n",
              "      <td>99.050003</td>\n",
              "      <td>100.440002</td>\n",
              "    </tr>\n",
              "    <tr>\n",
              "      <th>4606</th>\n",
              "      <td>2022-12-05 00:00:00-05:00</td>\n",
              "      <td>99.400002</td>\n",
              "      <td>99.480003</td>\n",
              "    </tr>\n",
              "    <tr>\n",
              "      <th>4607</th>\n",
              "      <td>2022-12-06 00:00:00-05:00</td>\n",
              "      <td>99.300003</td>\n",
              "      <td>96.980003</td>\n",
              "    </tr>\n",
              "    <tr>\n",
              "      <th>4608</th>\n",
              "      <td>2022-12-07 00:00:00-05:00</td>\n",
              "      <td>96.410004</td>\n",
              "      <td>94.940002</td>\n",
              "    </tr>\n",
              "    <tr>\n",
              "      <th>4609</th>\n",
              "      <td>2022-12-08 00:00:00-05:00</td>\n",
              "      <td>95.379997</td>\n",
              "      <td>93.709999</td>\n",
              "    </tr>\n",
              "    <tr>\n",
              "      <th>4610</th>\n",
              "      <td>2022-12-09 00:00:00-05:00</td>\n",
              "      <td>93.769997</td>\n",
              "      <td>92.830002</td>\n",
              "    </tr>\n",
              "    <tr>\n",
              "      <th>4611</th>\n",
              "      <td>2022-12-12 00:00:00-05:00</td>\n",
              "      <td>92.709999</td>\n",
              "      <td>93.309998</td>\n",
              "    </tr>\n",
              "    <tr>\n",
              "      <th>4612</th>\n",
              "      <td>2022-12-13 00:00:00-05:00</td>\n",
              "      <td>97.760002</td>\n",
              "      <td>95.629997</td>\n",
              "    </tr>\n",
              "  </tbody>\n",
              "</table>\n",
              "</div>\n",
              "      <button class=\"colab-df-convert\" onclick=\"convertToInteractive('df-d97cd8cc-4d75-4c44-a5a0-c0e532f6582a')\"\n",
              "              title=\"Convert this dataframe to an interactive table.\"\n",
              "              style=\"display:none;\">\n",
              "        \n",
              "  <svg xmlns=\"http://www.w3.org/2000/svg\" height=\"24px\"viewBox=\"0 0 24 24\"\n",
              "       width=\"24px\">\n",
              "    <path d=\"M0 0h24v24H0V0z\" fill=\"none\"/>\n",
              "    <path d=\"M18.56 5.44l.94 2.06.94-2.06 2.06-.94-2.06-.94-.94-2.06-.94 2.06-2.06.94zm-11 1L8.5 8.5l.94-2.06 2.06-.94-2.06-.94L8.5 2.5l-.94 2.06-2.06.94zm10 10l.94 2.06.94-2.06 2.06-.94-2.06-.94-.94-2.06-.94 2.06-2.06.94z\"/><path d=\"M17.41 7.96l-1.37-1.37c-.4-.4-.92-.59-1.43-.59-.52 0-1.04.2-1.43.59L10.3 9.45l-7.72 7.72c-.78.78-.78 2.05 0 2.83L4 21.41c.39.39.9.59 1.41.59.51 0 1.02-.2 1.41-.59l7.78-7.78 2.81-2.81c.8-.78.8-2.07 0-2.86zM5.41 20L4 18.59l7.72-7.72 1.47 1.35L5.41 20z\"/>\n",
              "  </svg>\n",
              "      </button>\n",
              "      \n",
              "  <style>\n",
              "    .colab-df-container {\n",
              "      display:flex;\n",
              "      flex-wrap:wrap;\n",
              "      gap: 12px;\n",
              "    }\n",
              "\n",
              "    .colab-df-convert {\n",
              "      background-color: #E8F0FE;\n",
              "      border: none;\n",
              "      border-radius: 50%;\n",
              "      cursor: pointer;\n",
              "      display: none;\n",
              "      fill: #1967D2;\n",
              "      height: 32px;\n",
              "      padding: 0 0 0 0;\n",
              "      width: 32px;\n",
              "    }\n",
              "\n",
              "    .colab-df-convert:hover {\n",
              "      background-color: #E2EBFA;\n",
              "      box-shadow: 0px 1px 2px rgba(60, 64, 67, 0.3), 0px 1px 3px 1px rgba(60, 64, 67, 0.15);\n",
              "      fill: #174EA6;\n",
              "    }\n",
              "\n",
              "    [theme=dark] .colab-df-convert {\n",
              "      background-color: #3B4455;\n",
              "      fill: #D2E3FC;\n",
              "    }\n",
              "\n",
              "    [theme=dark] .colab-df-convert:hover {\n",
              "      background-color: #434B5C;\n",
              "      box-shadow: 0px 1px 3px 1px rgba(0, 0, 0, 0.15);\n",
              "      filter: drop-shadow(0px 1px 2px rgba(0, 0, 0, 0.3));\n",
              "      fill: #FFFFFF;\n",
              "    }\n",
              "  </style>\n",
              "\n",
              "      <script>\n",
              "        const buttonEl =\n",
              "          document.querySelector('#df-d97cd8cc-4d75-4c44-a5a0-c0e532f6582a button.colab-df-convert');\n",
              "        buttonEl.style.display =\n",
              "          google.colab.kernel.accessAllowed ? 'block' : 'none';\n",
              "\n",
              "        async function convertToInteractive(key) {\n",
              "          const element = document.querySelector('#df-d97cd8cc-4d75-4c44-a5a0-c0e532f6582a');\n",
              "          const dataTable =\n",
              "            await google.colab.kernel.invokeFunction('convertToInteractive',\n",
              "                                                     [key], {});\n",
              "          if (!dataTable) return;\n",
              "\n",
              "          const docLinkHtml = 'Like what you see? Visit the ' +\n",
              "            '<a target=\"_blank\" href=https://colab.research.google.com/notebooks/data_table.ipynb>data table notebook</a>'\n",
              "            + ' to learn more about interactive tables.';\n",
              "          element.innerHTML = '';\n",
              "          dataTable['output_type'] = 'display_data';\n",
              "          await google.colab.output.renderOutput(dataTable, element);\n",
              "          const docLink = document.createElement('div');\n",
              "          docLink.innerHTML = docLinkHtml;\n",
              "          element.appendChild(docLink);\n",
              "        }\n",
              "      </script>\n",
              "    </div>\n",
              "  </div>\n",
              "  "
            ]
          },
          "metadata": {},
          "execution_count": 21
        }
      ]
    },
    {
      "cell_type": "markdown",
      "source": [
        "### **Data Visualisation**"
      ],
      "metadata": {
        "id": "DvK2crH0M55j"
      }
    },
    {
      "cell_type": "code",
      "source": [
        "import seaborn as sns"
      ],
      "metadata": {
        "id": "LmbqMhsMMyxv"
      },
      "execution_count": null,
      "outputs": []
    },
    {
      "cell_type": "code",
      "source": [
        "fig, ax = plt.subplots(figsize=(20, 10))\n",
        "plot1 = sns.scatterplot(data=historical_data.head(100), x=\"Open\", y=\"Close\", ax=ax, color='red')\n",
        "plot1.set(title='Open v/s Close')\n",
        "plt.show()"
      ],
      "metadata": {
        "colab": {
          "base_uri": "https://localhost:8080/",
          "height": 621
        },
        "id": "mQUJWuLJMyuv",
        "outputId": "66e428cd-6ae7-4777-d935-746e9558b8f0"
      },
      "execution_count": null,
      "outputs": [
        {
          "output_type": "display_data",
          "data": {
            "text/plain": [
              "<Figure size 1440x720 with 1 Axes>"
            ],
            "image/png": "[encoded data removed]"
          },
          "metadata": {
            "needs_background": "light"
          }
        }
      ]
    },
    {
      "cell_type": "code",
      "source": [
        "historical_data.hist(bins=50, figsize=(20, 6), color='black')\n",
        "plt.show()"
      ],
      "metadata": {
        "colab": {
          "base_uri": "https://localhost:8080/",
          "height": 390
        },
        "id": "8FrQ_SpqMysT",
        "outputId": "0d62a2d7-407b-4d94-b44e-12c84a9c89f5"
      },
      "execution_count": null,
      "outputs": [
        {
          "output_type": "display_data",
          "data": {
            "text/plain": [
              "<Figure size 1440x432 with 4 Axes>"
            ],
            "image/png": "[encoded data removed]"
          },
          "metadata": {
            "needs_background": "light"
          }
        }
      ]
    },
    {
      "cell_type": "code",
      "source": [
        "#Importing Model\n",
        "from sklearn.linear_model import LinearRegression"
      ],
      "metadata": {
        "id": "wFNIDsXCNYX2"
      },
      "execution_count": null,
      "outputs": []
    },
    {
      "cell_type": "markdown",
      "source": [
        "### **Building, Predicting and Evaluating the Model**"
      ],
      "metadata": {
        "id": "AJeLzVa3Nm57"
      }
    },
    {
      "cell_type": "code",
      "source": [
        "from sklearn.model_selection import train_test_split\n",
        "from sklearn.metrics import r2_score"
      ],
      "metadata": {
        "id": "oxvlJDTiNYVB"
      },
      "execution_count": null,
      "outputs": []
    },
    {
      "cell_type": "markdown",
      "source": [
        "**- Simple Linear Regression**"
      ],
      "metadata": {
        "id": "lhwuLKJeN3iC"
      }
    },
    {
      "cell_type": "code",
      "source": [
        "X = historical_data['Open'].values\n",
        "y = historical_data['Close'].values"
      ],
      "metadata": {
        "id": "aDLCBfhjNYSZ"
      },
      "execution_count": null,
      "outputs": []
    },
    {
      "cell_type": "code",
      "source": [
        "X_train, X_test, y_train, y_test = train_test_split(X, y, train_size=0.7, test_size=0.3)"
      ],
      "metadata": {
        "id": "7-DkC75INYQO"
      },
      "execution_count": null,
      "outputs": []
    },
    {
      "cell_type": "code",
      "source": [
        "model_1 = LinearRegression()\n",
        "build_1 = model_1.fit(X_train.reshape(-1, 1), y_train)\n",
        "predict_1 = model_1.predict(X_test.reshape(-1, 1))"
      ],
      "metadata": {
        "id": "dfTTeaODOPlb"
      },
      "execution_count": null,
      "outputs": []
    },
    {
      "cell_type": "code",
      "source": [
        "print(\"Co-efficient: \", model_1.coef_)\n",
        "print(\"\\nIntercept: \", model_1.intercept_)"
      ],
      "metadata": {
        "colab": {
          "base_uri": "https://localhost:8080/"
        },
        "id": "mcv5nCVHOPi3",
        "outputId": "84d59737-141c-476a-ae1f-8e9d04a400fc"
      },
      "execution_count": null,
      "outputs": [
        {
          "output_type": "stream",
          "name": "stdout",
          "text": [
            "Co-efficient:  [0.99966586]\n",
            "\n",
            "Intercept:  0.007142275772032747\n"
          ]
        }
      ]
    },
    {
      "cell_type": "code",
      "source": [
        "df_1 = pd.DataFrame(list(zip(y_test, predict_1)), columns=[\"Actual Values\", \"Predicted Values\"])"
      ],
      "metadata": {
        "id": "xPOLdGKYOPf9"
      },
      "execution_count": null,
      "outputs": []
    },
    {
      "cell_type": "code",
      "source": [
        "df_1.head().style.hide_index()"
      ],
      "metadata": {
        "colab": {
          "base_uri": "https://localhost:8080/",
          "height": 207
        },
        "id": "NJkZG69mOPdI",
        "outputId": "125af805-741d-489d-d656-4e6b6f16ec36"
      },
      "execution_count": null,
      "outputs": [
        {
          "output_type": "execute_result",
          "data": {
            "text/plain": [
              "<pandas.io.formats.style.Styler at 0x7f80e34c15b0>"
            ],
            "text/html": [
              "<style type=\"text/css\">\n",
              "</style>\n",
              "<table id=\"T_cfa14_\" class=\"dataframe\">\n",
              "  <thead>\n",
              "    <tr>\n",
              "      <th class=\"col_heading level0 col0\" >Actual Values</th>\n",
              "      <th class=\"col_heading level0 col1\" >Predicted Values</th>\n",
              "    </tr>\n",
              "  </thead>\n",
              "  <tbody>\n",
              "    <tr>\n",
              "      <td id=\"T_cfa14_row0_col0\" class=\"data row0 col0\" >16.191692</td>\n",
              "      <td id=\"T_cfa14_row0_col1\" class=\"data row0 col1\" >16.193674</td>\n",
              "    </tr>\n",
              "    <tr>\n",
              "      <td id=\"T_cfa14_row1_col0\" class=\"data row1 col0\" >60.645500</td>\n",
              "      <td id=\"T_cfa14_row1_col1\" class=\"data row1 col1\" >60.413449</td>\n",
              "    </tr>\n",
              "    <tr>\n",
              "      <td id=\"T_cfa14_row2_col0\" class=\"data row2 col0\" >27.543043</td>\n",
              "      <td id=\"T_cfa14_row2_col1\" class=\"data row2 col1\" >27.232777</td>\n",
              "    </tr>\n",
              "    <tr>\n",
              "      <td id=\"T_cfa14_row3_col0\" class=\"data row3 col0\" >72.001503</td>\n",
              "      <td id=\"T_cfa14_row3_col1\" class=\"data row3 col1\" >71.745660</td>\n",
              "    </tr>\n",
              "    <tr>\n",
              "      <td id=\"T_cfa14_row4_col0\" class=\"data row4 col0\" >9.637137</td>\n",
              "      <td id=\"T_cfa14_row4_col1\" class=\"data row4 col1\" >9.646312</td>\n",
              "    </tr>\n",
              "  </tbody>\n",
              "</table>\n"
            ]
          },
          "metadata": {},
          "execution_count": 35
        }
      ]
    },
    {
      "cell_type": "code",
      "source": [
        "df_1.tail().style.hide_index()"
      ],
      "metadata": {
        "colab": {
          "base_uri": "https://localhost:8080/",
          "height": 207
        },
        "id": "muBMQ8ViOsr2",
        "outputId": "c79e2755-b950-4d63-e548-7913fff959e3"
      },
      "execution_count": null,
      "outputs": [
        {
          "output_type": "execute_result",
          "data": {
            "text/plain": [
              "<pandas.io.formats.style.Styler at 0x7f80e11991c0>"
            ],
            "text/html": [
              "<style type=\"text/css\">\n",
              "</style>\n",
              "<table id=\"T_4de51_\" class=\"dataframe\">\n",
              "  <thead>\n",
              "    <tr>\n",
              "      <th class=\"col_heading level0 col0\" >Actual Values</th>\n",
              "      <th class=\"col_heading level0 col1\" >Predicted Values</th>\n",
              "    </tr>\n",
              "  </thead>\n",
              "  <tbody>\n",
              "    <tr>\n",
              "      <td id=\"T_4de51_row0_col0\" class=\"data row0 col0\" >15.615365</td>\n",
              "      <td id=\"T_4de51_row0_col1\" class=\"data row0 col1\" >15.697093</td>\n",
              "    </tr>\n",
              "    <tr>\n",
              "      <td id=\"T_4de51_row1_col0\" class=\"data row1 col0\" >25.678429</td>\n",
              "      <td id=\"T_4de51_row1_col1\" class=\"data row1 col1\" >25.811829</td>\n",
              "    </tr>\n",
              "    <tr>\n",
              "      <td id=\"T_4de51_row2_col0\" class=\"data row2 col0\" >11.684184</td>\n",
              "      <td id=\"T_4de51_row2_col1\" class=\"data row2 col1\" >11.675164</td>\n",
              "    </tr>\n",
              "    <tr>\n",
              "      <td id=\"T_4de51_row3_col0\" class=\"data row3 col0\" >10.825826</td>\n",
              "      <td id=\"T_4de51_row3_col1\" class=\"data row3 col1\" >10.920162</td>\n",
              "    </tr>\n",
              "    <tr>\n",
              "      <td id=\"T_4de51_row4_col0\" class=\"data row4 col0\" >13.195445</td>\n",
              "      <td id=\"T_4de51_row4_col1\" class=\"data row4 col1\" >13.059336</td>\n",
              "    </tr>\n",
              "  </tbody>\n",
              "</table>\n"
            ]
          },
          "metadata": {},
          "execution_count": 36
        }
      ]
    },
    {
      "cell_type": "code",
      "source": [
        "df_1.head(50).plot(kind=\"bar\", figsize=(20, 10), title='Simple Linear Regression')\n",
        "plt.show()"
      ],
      "metadata": {
        "colab": {
          "base_uri": "https://localhost:8080/",
          "height": 610
        },
        "id": "Xu2xcqB7O3LZ",
        "outputId": "689eeaa7-2afb-4859-8605-d4e50f78bf09"
      },
      "execution_count": null,
      "outputs": [
        {
          "output_type": "display_data",
          "data": {
            "text/plain": [
              "<Figure size 1440x720 with 1 Axes>"
            ],
            "image/png": "[encoded data removed]"
          },
          "metadata": {
            "needs_background": "light"
          }
        }
      ]
    },
    {
      "cell_type": "code",
      "source": [
        "df_1.tail(50).plot(kind=\"bar\", figsize=(20, 10), title='Simple Linear Regression')\n",
        "plt.show()"
      ],
      "metadata": {
        "colab": {
          "base_uri": "https://localhost:8080/",
          "height": 622
        },
        "id": "h4LHZUa7O93I",
        "outputId": "8dc8286c-d60c-43aa-b25b-b8c24a750df5"
      },
      "execution_count": null,
      "outputs": [
        {
          "output_type": "display_data",
          "data": {
            "text/plain": [
              "<Figure size 1440x720 with 1 Axes>"
            ],
            "image/png": "[encoded data removed]"
          },
          "metadata": {
            "needs_background": "light"
          }
        }
      ]
    },
    {
      "cell_type": "code",
      "source": [
        "accuracy_1 = r2_score(y_test, predict_1)\n",
        "print(\"Accuracy of Simple Linear Regression:\", accuracy_1)"
      ],
      "metadata": {
        "colab": {
          "base_uri": "https://localhost:8080/"
        },
        "id": "JSe8IFJ6O9zv",
        "outputId": "eab48a3e-81a8-4b3e-e483-a1b90d768fbe"
      },
      "execution_count": null,
      "outputs": [
        {
          "output_type": "stream",
          "name": "stdout",
          "text": [
            "Accuracy of Simple Linear Regression: 0.9994807563395269\n"
          ]
        }
      ]
    },
    {
      "cell_type": "markdown",
      "source": [
        "### **Model Visualisation**"
      ],
      "metadata": {
        "id": "jkpfHDRlPXPj"
      }
    },
    {
      "cell_type": "code",
      "source": [
        "dict_1 = {\n",
        "    \"Model\": [\"Simple Linear Regression\"],\n",
        "    \"Accuracy\": np.array([accuracy_1])\n",
        "}\n",
        "df = pd.DataFrame(dict_1)\n",
        "display(df.style.hide_index())"
      ],
      "metadata": {
        "colab": {
          "base_uri": "https://localhost:8080/",
          "height": 81
        },
        "id": "PFsrPGc4O9w1",
        "outputId": "d25dd38c-4594-40fe-cda2-30765902b4b6"
      },
      "execution_count": null,
      "outputs": [
        {
          "output_type": "display_data",
          "data": {
            "text/plain": [
              "<pandas.io.formats.style.Styler at 0x7f80e46449d0>"
            ],
            "text/html": [
              "<style type=\"text/css\">\n",
              "</style>\n",
              "<table id=\"T_2526c_\" class=\"dataframe\">\n",
              "  <thead>\n",
              "    <tr>\n",
              "      <th class=\"col_heading level0 col0\" >Model</th>\n",
              "      <th class=\"col_heading level0 col1\" >Accuracy</th>\n",
              "    </tr>\n",
              "  </thead>\n",
              "  <tbody>\n",
              "    <tr>\n",
              "      <td id=\"T_2526c_row0_col0\" class=\"data row0 col0\" >Simple Linear Regression</td>\n",
              "      <td id=\"T_2526c_row0_col1\" class=\"data row0 col1\" >0.999481</td>\n",
              "    </tr>\n",
              "  </tbody>\n",
              "</table>\n"
            ]
          },
          "metadata": {}
        }
      ]
    },
    {
      "cell_type": "code",
      "source": [
        "models = ['SLR']\n",
        "acc = [accuracy_1]\n",
        "plt.figure(figsize=(20, 10))\n",
        "plt.title('Accuracy of Model')\n",
        "plt.yticks(np.linspace(0,1,21))\n",
        "plt.ylabel(\"Accuracy\")\n",
        "plt.xlabel(\"Models\")\n",
        "values = df.Accuracy\n",
        "plot = sns.barplot(x=models, y=acc, data=values, errwidth=0)\n",
        "plt.show()"
      ],
      "metadata": {
        "colab": {
          "base_uri": "https://localhost:8080/",
          "height": 621
        },
        "id": "UlWLEs2rO9tf",
        "outputId": "bff0067e-4faf-43ef-b479-a40050e2f724"
      },
      "execution_count": null,
      "outputs": [
        {
          "output_type": "display_data",
          "data": {
            "text/plain": [
              "<Figure size 1440x720 with 1 Axes>"
            ],
            "image/png": "[encoded data removed]"
          },
          "metadata": {
            "needs_background": "light"
          }
        }
      ]
    },
    {
      "cell_type": "code",
      "source": [
        "new_dict = {\n",
        "    'Date': np.array(['14-December-22']),\n",
        "    'Open':np.array([95.63])}\n",
        "\n",
        "future_stock_value = pd.DataFrame(new_dict)\n",
        "display(future_stock_value.style.hide_index())"
      ],
      "metadata": {
        "colab": {
          "base_uri": "https://localhost:8080/",
          "height": 81
        },
        "id": "hbPe_81dO9qy",
        "outputId": "26d9ace6-27d1-42cb-acfd-19e4262fe8f2"
      },
      "execution_count": null,
      "outputs": [
        {
          "output_type": "display_data",
          "data": {
            "text/plain": [
              "<pandas.io.formats.style.Styler at 0x7f80e1141c70>"
            ],
            "text/html": [
              "<style type=\"text/css\">\n",
              "</style>\n",
              "<table id=\"T_a9c63_\" class=\"dataframe\">\n",
              "  <thead>\n",
              "    <tr>\n",
              "      <th class=\"col_heading level0 col0\" >Date</th>\n",
              "      <th class=\"col_heading level0 col1\" >Open</th>\n",
              "    </tr>\n",
              "  </thead>\n",
              "  <tbody>\n",
              "    <tr>\n",
              "      <td id=\"T_a9c63_row0_col0\" class=\"data row0 col0\" >14-December-22</td>\n",
              "      <td id=\"T_a9c63_row0_col1\" class=\"data row0 col1\" >95.630000</td>\n",
              "    </tr>\n",
              "  </tbody>\n",
              "</table>\n"
            ]
          },
          "metadata": {}
        }
      ]
    },
    {
      "cell_type": "code",
      "source": [
        "models = np.array(df['Model'])\n",
        "accuracy = np.array(df['Accuracy'])"
      ],
      "metadata": {
        "id": "w8epG-MkQDcf"
      },
      "execution_count": null,
      "outputs": []
    },
    {
      "cell_type": "code",
      "source": [
        "highest_accuracy=0.0\n",
        "best_model=\"\""
      ],
      "metadata": {
        "id": "RtZpxnSTQDZ4"
      },
      "execution_count": null,
      "outputs": []
    },
    {
      "cell_type": "code",
      "source": [
        "for i in range(len(accuracy)) :\n",
        "    if accuracy[i] >= highest_accuracy :\n",
        "        highest_accuracy=accuracy[i]\n",
        "        best_model=models[i]"
      ],
      "metadata": {
        "id": "gp9BFDxvQDXt"
      },
      "execution_count": null,
      "outputs": []
    },
    {
      "cell_type": "code",
      "source": [
        "slr = []\n",
        "\n",
        "if best_model == models[0] :\n",
        "    future_stock_value['Predicted'] = model_1.predict(future_stock_value.Open.values.reshape(-1, 1))"
      ],
      "metadata": {
        "id": "_bVbxPTjQMm7"
      },
      "execution_count": null,
      "outputs": []
    },
    {
      "cell_type": "code",
      "source": [
        "display(future_stock_value.style.hide_index())"
      ],
      "metadata": {
        "colab": {
          "base_uri": "https://localhost:8080/",
          "height": 81
        },
        "id": "yyLDQuYhQMkD",
        "outputId": "a2973e58-0de3-42e1-985a-0ff3e42116bf"
      },
      "execution_count": null,
      "outputs": [
        {
          "output_type": "display_data",
          "data": {
            "text/plain": [
              "<pandas.io.formats.style.Styler at 0x7f80e4218130>"
            ],
            "text/html": [
              "<style type=\"text/css\">\n",
              "</style>\n",
              "<table id=\"T_d06af_\" class=\"dataframe\">\n",
              "  <thead>\n",
              "    <tr>\n",
              "      <th class=\"col_heading level0 col0\" >Date</th>\n",
              "      <th class=\"col_heading level0 col1\" >Open</th>\n",
              "      <th class=\"col_heading level0 col2\" >Predicted</th>\n",
              "    </tr>\n",
              "  </thead>\n",
              "  <tbody>\n",
              "    <tr>\n",
              "      <td id=\"T_d06af_row0_col0\" class=\"data row0 col0\" >14-December-22</td>\n",
              "      <td id=\"T_d06af_row0_col1\" class=\"data row0 col1\" >95.630000</td>\n",
              "      <td id=\"T_d06af_row0_col2\" class=\"data row0 col2\" >95.605188</td>\n",
              "    </tr>\n",
              "  </tbody>\n",
              "</table>\n"
            ]
          },
          "metadata": {}
        }
      ]
    },
    {
      "cell_type": "code",
      "source": [],
      "metadata": {
        "id": "fJ_iVXNsQMhc"
      },
      "execution_count": null,
      "outputs": []
    }
  ]
}